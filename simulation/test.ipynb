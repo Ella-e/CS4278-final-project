{
 "cells": [
  {
   "cell_type": "code",
   "execution_count": null,
   "metadata": {},
   "outputs": [],
   "source": []
  },
  {
   "cell_type": "code",
   "execution_count": 1,
   "metadata": {},
   "outputs": [
    {
     "name": "stderr",
     "output_type": "stream",
     "text": [
      "pybullet build time: Sep 29 2024 17:20:02\n"
     ]
    },
    {
     "ename": "ModuleNotFoundError",
     "evalue": "No module named 'utils'",
     "output_type": "error",
     "traceback": [
      "\u001b[0;31m---------------------------------------------------------------------------\u001b[0m",
      "\u001b[0;31mModuleNotFoundError\u001b[0m                       Traceback (most recent call last)",
      "Cell \u001b[0;32mIn[1], line 8\u001b[0m\n\u001b[1;32m      6\u001b[0m \u001b[38;5;28;01mimport\u001b[39;00m \u001b[38;5;21;01mpybullet\u001b[39;00m \u001b[38;5;28;01mas\u001b[39;00m \u001b[38;5;21;01mp\u001b[39;00m\n\u001b[1;32m      7\u001b[0m \u001b[38;5;28;01mfrom\u001b[39;00m \u001b[38;5;21;01mstretch\u001b[39;00m \u001b[38;5;28;01mimport\u001b[39;00m \u001b[38;5;241m*\u001b[39m\n\u001b[0;32m----> 8\u001b[0m \u001b[38;5;28;01mfrom\u001b[39;00m \u001b[38;5;21;01mutils\u001b[39;00m\u001b[38;5;21;01m.\u001b[39;00m\u001b[38;5;21;01mPose\u001b[39;00m \u001b[38;5;28;01mimport\u001b[39;00m Pose\n\u001b[1;32m      9\u001b[0m \u001b[38;5;28;01mfrom\u001b[39;00m \u001b[38;5;21;01mnavigation\u001b[39;00m\u001b[38;5;21;01m.\u001b[39;00m\u001b[38;5;21;01mslam\u001b[39;00m \u001b[38;5;28;01mimport\u001b[39;00m \u001b[38;5;241m*\u001b[39m\n\u001b[1;32m     11\u001b[0m p\u001b[38;5;241m.\u001b[39mconnect(p\u001b[38;5;241m.\u001b[39mGUI)\n",
      "\u001b[0;31mModuleNotFoundError\u001b[0m: No module named 'utils'"
     ]
    }
   ],
   "source": [
    "import time\n",
    "import numpy as np\n",
    "import pickle\n",
    "import sys\n",
    "import os\n",
    "import pybullet as p\n",
    "from stretch import *\n",
    "# from utils.Pose import Pose\n",
    "from navigation.slam import *\n",
    "\n",
    "p.connect(p.GUI)\n",
    "p.configureDebugVisualizer(p.COV_ENABLE_GUI, 1)\n",
    "p.setGravity(0, 0, -1.81)\n",
    "\n",
    "def get_joint_index_by_name(robot, joint_name):\n",
    "    num_joints = p.getNumJoints(robot)\n",
    "    \n",
    "    for i in range(num_joints):\n",
    "        joint_info = p.getJointInfo(robot, i)\n",
    "        if joint_info[1].decode(\"utf-8\") == joint_name:\n",
    "            print(f\"joint name: {joint_name} found at index {i}\")\n",
    "            return i\n",
    "    return None  # Return None if the joint name is not found\n",
    "\n",
    "def get_link_index_by_name(robot, link_name):\n",
    "    num_joints = p.getNumJoints(robot)  # This gives the number of joints, which is one less than the number of links\n",
    "    \n",
    "    for i in range(num_joints):\n",
    "        link_info = p.getJointInfo(robot, i)\n",
    "        link_name_in_urdf = link_info[12].decode(\"utf-8\")  # Link name is stored at index 12\n",
    "        if link_name_in_urdf == link_name:\n",
    "            print(f\"link name: {link_name_in_urdf} found at index {i}\")\n",
    "            return i\n",
    "    return None  # Return None if the link name is not found\n",
    "\n",
    "\n",
    "mobot = init_scene(p)\n",
    "    \n",
    "forward=0\n",
    "turn=0\n",
    "speed=10\n",
    "up=0\n",
    "stretch=0\n",
    "gripper_open=0\n",
    "roll=0\n",
    "yaw=0\n",
    "\n",
    "mobot.get_observation()"
   ]
  }
 ],
 "metadata": {
  "kernelspec": {
   "display_name": "base",
   "language": "python",
   "name": "python3"
  },
  "language_info": {
   "codemirror_mode": {
    "name": "ipython",
    "version": 3
   },
   "file_extension": ".py",
   "mimetype": "text/x-python",
   "name": "python",
   "nbconvert_exporter": "python",
   "pygments_lexer": "ipython3",
   "version": "3.9.19"
  }
 },
 "nbformat": 4,
 "nbformat_minor": 2
}
